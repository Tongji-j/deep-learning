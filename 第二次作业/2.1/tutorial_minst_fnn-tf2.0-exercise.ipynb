{
 "cells": [
  {
   "cell_type": "markdown",
   "metadata": {},
   "source": [
    "## 准备数据"
   ]
  },
  {
   "cell_type": "code",
   "execution_count": 27,
   "metadata": {},
   "outputs": [],
   "source": [
    "import os\n",
    "import numpy as np\n",
    "import tensorflow as tf\n",
    "from tensorflow import keras\n",
    "from tensorflow.keras import layers, optimizers, datasets\n",
    "\n",
    "os.environ['TF_CPP_MIN_LOG_LEVEL'] = '2'  # or any {'0', '1', '2'}\n",
    "\n",
    "def mnist_dataset():\n",
    "    (x, y), (x_test, y_test) = datasets.mnist.load_data()\n",
    "    #normalize\n",
    "    x = x/255.0\n",
    "    x_test = x_test/255.0\n",
    "    \n",
    "    return (x, y), (x_test, y_test)"
   ]
  },
  {
   "cell_type": "code",
   "execution_count": 28,
   "metadata": {},
   "outputs": [
    {
     "name": "stdout",
     "output_type": "stream",
     "text": [
      "[(1, 'a'), (2, 'b'), (3, 'c'), (4, 'd')]\n"
     ]
    }
   ],
   "source": [
    "print(list(zip([1, 2, 3, 4], ['a', 'b', 'c', 'd'])))"
   ]
  },
  {
   "cell_type": "markdown",
   "metadata": {},
   "source": [
    "## 建立模型"
   ]
  },
  {
   "cell_type": "code",
   "execution_count": 29,
   "metadata": {},
   "outputs": [],
   "source": [
    "class myModel:\n",
    "    def __init__(self):\n",
    "        ####################\n",
    "        '''声明模型对应的参数'''\n",
    "        ####################\n",
    "        # 第一层参数：输入层(784) -> 隐藏层(128)\n",
    "        self.W1 = tf.Variable(tf.random.normal([784, 128], stddev=0.1), name='W1', trainable=True)\n",
    "        self.b1 = tf.Variable(tf.zeros([128]), name='b1', trainable=True)\n",
    "        \n",
    "        # 第二层参数：隐藏层(128) -> 输出层(10)\n",
    "        self.W2 = tf.Variable(tf.random.normal([128, 10], stddev=0.1), name='W2', trainable=True)\n",
    "        self.b2 = tf.Variable(tf.zeros([10]), name='b2', trainable=True)\n",
    "    def __call__(self, x):\n",
    "        ####################\n",
    "        '''实现模型函数体，返回未归一化的logits'''\n",
    "        ####################\n",
    "        x = tf.reshape(x, [-1, 784])            # 将输入从 [batch, 28, 28] 展平成 [batch, 784]\n",
    "        h1 = tf.nn.relu(tf.matmul(x, self.W1) + self.b1)   # 第一层：全连接 + ReLU激活\n",
    "        logits = tf.matmul(h1, self.W2) + self.b2          # 第二层：全连接（未激活）\n",
    "        return logits\n",
    "        \n",
    "model = myModel()\n",
    "\n",
    "optimizer = optimizers.Adam()"
   ]
  },
  {
   "cell_type": "markdown",
   "metadata": {},
   "source": [
    "## 计算 loss"
   ]
  },
  {
   "cell_type": "code",
   "execution_count": 30,
   "metadata": {},
   "outputs": [],
   "source": [
    "@tf.function\n",
    "def compute_loss(logits, labels):\n",
    "    return tf.reduce_mean(\n",
    "        tf.nn.sparse_softmax_cross_entropy_with_logits(\n",
    "            logits=logits, labels=labels))\n",
    "\n",
    "@tf.function\n",
    "def compute_accuracy(logits, labels):\n",
    "    predictions = tf.argmax(logits, axis=1)\n",
    "    return tf.reduce_mean(tf.cast(tf.equal(predictions, labels), tf.float32))\n",
    "\n",
    "@tf.function\n",
    "def train_one_step(model, optimizer, x, y):\n",
    "    with tf.GradientTape() as tape:\n",
    "        logits = model(x)\n",
    "        loss = compute_loss(logits, y)\n",
    "\n",
    "    # compute gradient\n",
    "    trainable_vars = [model.W1, model.W2, model.b1, model.b2]\n",
    "    grads = tape.gradient(loss, trainable_vars)\n",
    "    for g, v in zip(grads, trainable_vars):\n",
    "        v.assign_sub(0.01*g)\n",
    "\n",
    "    accuracy = compute_accuracy(logits, y)\n",
    "\n",
    "    # loss and accuracy is scalar tensor\n",
    "    return loss, accuracy\n",
    "\n",
    "@tf.function\n",
    "def test(model, x, y):\n",
    "    logits = model(x)\n",
    "    loss = compute_loss(logits, y)\n",
    "    accuracy = compute_accuracy(logits, y)\n",
    "    return loss, accuracy"
   ]
  },
  {
   "cell_type": "markdown",
   "metadata": {},
   "source": [
    "## 实际训练"
   ]
  },
  {
   "cell_type": "code",
   "execution_count": 31,
   "metadata": {},
   "outputs": [
    {
     "name": "stdout",
     "output_type": "stream",
     "text": [
      "epoch 0 : loss 2.448026 ; accuracy 0.13041666\n",
      "epoch 1 : loss 2.412963 ; accuracy 0.13513333\n",
      "epoch 2 : loss 2.3820648 ; accuracy 0.13981667\n",
      "epoch 3 : loss 2.354535 ; accuracy 0.14511667\n",
      "epoch 4 : loss 2.329753 ; accuracy 0.1503\n",
      "epoch 5 : loss 2.307238 ; accuracy 0.15573333\n",
      "epoch 6 : loss 2.2866075 ; accuracy 0.16141666\n",
      "epoch 7 : loss 2.2675593 ; accuracy 0.16736667\n",
      "epoch 8 : loss 2.24985 ; accuracy 0.17358333\n",
      "epoch 9 : loss 2.2332845 ; accuracy 0.17953333\n",
      "epoch 10 : loss 2.2177007 ; accuracy 0.18571667\n",
      "epoch 11 : loss 2.2029636 ; accuracy 0.19248334\n",
      "epoch 12 : loss 2.1889615 ; accuracy 0.19956666\n",
      "epoch 13 : loss 2.1756024 ; accuracy 0.2066\n",
      "epoch 14 : loss 2.1628075 ; accuracy 0.21303333\n",
      "epoch 15 : loss 2.150514 ; accuracy 0.22045\n",
      "epoch 16 : loss 2.1386619 ; accuracy 0.22741666\n",
      "epoch 17 : loss 2.1272066 ; accuracy 0.23448333\n",
      "epoch 18 : loss 2.1161077 ; accuracy 0.24216667\n",
      "epoch 19 : loss 2.1053288 ; accuracy 0.24946667\n",
      "epoch 20 : loss 2.0948372 ; accuracy 0.2566\n",
      "epoch 21 : loss 2.0846064 ; accuracy 0.26411667\n",
      "epoch 22 : loss 2.0746126 ; accuracy 0.27113333\n",
      "epoch 23 : loss 2.0648358 ; accuracy 0.27778333\n",
      "epoch 24 : loss 2.0552564 ; accuracy 0.28355\n",
      "epoch 25 : loss 2.0458572 ; accuracy 0.2906\n",
      "epoch 26 : loss 2.0366235 ; accuracy 0.29725\n",
      "epoch 27 : loss 2.027544 ; accuracy 0.30403334\n",
      "epoch 28 : loss 2.018607 ; accuracy 0.31101668\n",
      "epoch 29 : loss 2.0098047 ; accuracy 0.3182\n",
      "epoch 30 : loss 2.0011275 ; accuracy 0.32475\n",
      "epoch 31 : loss 1.9925648 ; accuracy 0.33226666\n",
      "epoch 32 : loss 1.9841105 ; accuracy 0.33903334\n",
      "epoch 33 : loss 1.9757572 ; accuracy 0.3456\n",
      "epoch 34 : loss 1.9675 ; accuracy 0.3522\n",
      "epoch 35 : loss 1.9593326 ; accuracy 0.35861668\n",
      "epoch 36 : loss 1.9512508 ; accuracy 0.36501667\n",
      "epoch 37 : loss 1.9432492 ; accuracy 0.37071666\n",
      "epoch 38 : loss 1.935325 ; accuracy 0.37755\n",
      "epoch 39 : loss 1.9274738 ; accuracy 0.38313332\n",
      "epoch 40 : loss 1.919692 ; accuracy 0.38956666\n",
      "epoch 41 : loss 1.9119765 ; accuracy 0.39615\n",
      "epoch 42 : loss 1.9043239 ; accuracy 0.40203333\n",
      "epoch 43 : loss 1.8967323 ; accuracy 0.40816668\n",
      "epoch 44 : loss 1.8891994 ; accuracy 0.41415\n",
      "epoch 45 : loss 1.8817232 ; accuracy 0.41975\n",
      "epoch 46 : loss 1.874302 ; accuracy 0.42518333\n",
      "epoch 47 : loss 1.866934 ; accuracy 0.43096668\n",
      "epoch 48 : loss 1.8596177 ; accuracy 0.43638334\n",
      "epoch 49 : loss 1.8523521 ; accuracy 0.44158334\n",
      "test loss 1.8216856 ; accuracy 0.4647\n"
     ]
    }
   ],
   "source": [
    "train_data, test_data = mnist_dataset()\n",
    "for epoch in range(50):\n",
    "    loss, accuracy = train_one_step(model, optimizer, \n",
    "                                    tf.constant(train_data[0], dtype=tf.float32), \n",
    "                                    tf.constant(train_data[1], dtype=tf.int64))\n",
    "    print('epoch', epoch, ': loss', loss.numpy(), '; accuracy', accuracy.numpy())\n",
    "loss, accuracy = test(model, \n",
    "                      tf.constant(test_data[0], dtype=tf.float32), \n",
    "                      tf.constant(test_data[1], dtype=tf.int64))\n",
    "\n",
    "print('test loss', loss.numpy(), '; accuracy', accuracy.numpy())"
   ]
  }
 ],
 "metadata": {
  "kernelspec": {
   "display_name": "Python 3",
   "language": "python",
   "name": "python3"
  },
  "language_info": {
   "codemirror_mode": {
    "name": "ipython",
    "version": 3
   },
   "file_extension": ".py",
   "mimetype": "text/x-python",
   "name": "python",
   "nbconvert_exporter": "python",
   "pygments_lexer": "ipython3",
   "version": "3.12.3"
  }
 },
 "nbformat": 4,
 "nbformat_minor": 2
}
